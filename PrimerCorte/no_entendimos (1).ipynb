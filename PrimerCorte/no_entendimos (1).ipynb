{
  "nbformat": 4,
  "nbformat_minor": 0,
  "metadata": {
    "colab": {
      "provenance": []
    },
    "kernelspec": {
      "name": "python3",
      "display_name": "Python 3"
    },
    "language_info": {
      "name": "python"
    }
  },
  "cells": [
    {
      "cell_type": "code",
      "execution_count": 1,
      "metadata": {
        "colab": {
          "base_uri": "https://localhost:8080/"
        },
        "id": "No2CSRLLshkr",
        "outputId": "5310585e-8e3a-4961-8ad3-338013ed104d"
      },
      "outputs": [
        {
          "output_type": "execute_result",
          "data": {
            "text/plain": [
              "4"
            ]
          },
          "metadata": {},
          "execution_count": 1
        }
      ],
      "source": [
        "2+2"
      ]
    },
    {
      "cell_type": "code",
      "source": [
        "print"
      ],
      "metadata": {
        "id": "CFe9je1otKzr"
      },
      "execution_count": null,
      "outputs": []
    },
    {
      "cell_type": "markdown",
      "source": [
        "#Explicacion clase\n"
      ],
      "metadata": {
        "id": "htge-3xss4yE"
      }
    },
    {
      "cell_type": "code",
      "source": [
        "print(\"Es nuestro primer dia de clases\")"
      ],
      "metadata": {
        "colab": {
          "base_uri": "https://localhost:8080/"
        },
        "id": "o1anl5oUtkyC",
        "outputId": "5426a776-3910-4e46-9f52-c6b0dac3b057"
      },
      "execution_count": 6,
      "outputs": [
        {
          "output_type": "stream",
          "name": "stdout",
          "text": [
            "Es nuestro primer dia de clases\n"
          ]
        }
      ]
    }
  ]
}